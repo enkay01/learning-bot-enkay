{
 "cells": [
  {
   "cell_type": "code",
   "execution_count": null,
   "source": [
    "import websocket, json, pprint, numpy as np, talib as tb\r\n",
    "import dependencies.secrets\r\n",
    "from binance.client import Client\r\n",
    "import binance.enums as b_enum"
   ],
   "outputs": [],
   "metadata": {}
  }
 ],
 "metadata": {
  "orig_nbformat": 4,
  "language_info": {
   "name": "python"
  }
 },
 "nbformat": 4,
 "nbformat_minor": 2
}